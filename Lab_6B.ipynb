{
 "cells": [
  {
   "cell_type": "markdown",
   "metadata": {},
   "source": [
    "# Lab 6B - Recovering AES Key from a Single Bit of Data"
   ]
  },
  {
   "cell_type": "markdown",
   "metadata": {},
   "source": [
    "---\n",
    "NOTE: This lab references some (commercial) training material on [ChipWhisperer.io](https://www.ChipWhisperer.io). You can freely execute and use the lab per the open-source license (including using it in your own courses if you distribute similarly), but you must maintain notice about this source location. Consider joining our training course to enjoy the full experience.\n",
    "\n",
    "---"
   ]
  },
  {
   "cell_type": "markdown",
   "metadata": {},
   "source": [
    "Let's do a basic demo to recover a single bit of data from an internal state of an AES implementation, and see how far we can take our attack.\n",
    "\n",
    "\n",
    "**SUMMARY:** *This lab will take you through the associated information about how to recover an AES key from a single \"bit\" of leakage. We already saw how power analysis can be used to understand device leakage, but how does that mean we can recover cryptographic information?*\n",
    "\n",
    "**LEARNING OUTCOMES:**\n",
    "\n",
    "* Understand some basics of the AES algorithm.\n",
    "* See how a single bit of leakage can translate to a full key reveal.\n",
    "* See how to sort and ranking lists.\n"
   ]
  },
  {
   "cell_type": "markdown",
   "metadata": {},
   "source": [
    "## 1. AES Refresher"
   ]
  },
  {
   "cell_type": "markdown",
   "metadata": {},
   "source": [
    "You'll be an expert at AES (or recognizing AES figures) by the end of this course! Remember that the input data flow for AES is something like this:\n",
    "\n",
    "![aes-input-sbox](aesinput.png)\n",
    "\n",
    "Where the input data is XOR'd with a key byte, and then passed through an S-Box. First, let's build our AES model. I'm going to make your life slightly easier by giving you the S-Box data:"
   ]
  },
  {
   "cell_type": "code",
   "execution_count": 1,
   "metadata": {},
   "outputs": [],
   "source": [
    "sbox = [\n",
    "    # 0    1    2    3    4    5    6    7    8    9    a    b    c    d    e    f \n",
    "    0x63,0x7c,0x77,0x7b,0xf2,0x6b,0x6f,0xc5,0x30,0x01,0x67,0x2b,0xfe,0xd7,0xab,0x76, # 0\n",
    "    0xca,0x82,0xc9,0x7d,0xfa,0x59,0x47,0xf0,0xad,0xd4,0xa2,0xaf,0x9c,0xa4,0x72,0xc0, # 1\n",
    "    0xb7,0xfd,0x93,0x26,0x36,0x3f,0xf7,0xcc,0x34,0xa5,0xe5,0xf1,0x71,0xd8,0x31,0x15, # 2\n",
    "    0x04,0xc7,0x23,0xc3,0x18,0x96,0x05,0x9a,0x07,0x12,0x80,0xe2,0xeb,0x27,0xb2,0x75, # 3\n",
    "    0x09,0x83,0x2c,0x1a,0x1b,0x6e,0x5a,0xa0,0x52,0x3b,0xd6,0xb3,0x29,0xe3,0x2f,0x84, # 4\n",
    "    0x53,0xd1,0x00,0xed,0x20,0xfc,0xb1,0x5b,0x6a,0xcb,0xbe,0x39,0x4a,0x4c,0x58,0xcf, # 5\n",
    "    0xd0,0xef,0xaa,0xfb,0x43,0x4d,0x33,0x85,0x45,0xf9,0x02,0x7f,0x50,0x3c,0x9f,0xa8, # 6\n",
    "    0x51,0xa3,0x40,0x8f,0x92,0x9d,0x38,0xf5,0xbc,0xb6,0xda,0x21,0x10,0xff,0xf3,0xd2, # 7\n",
    "    0xcd,0x0c,0x13,0xec,0x5f,0x97,0x44,0x17,0xc4,0xa7,0x7e,0x3d,0x64,0x5d,0x19,0x73, # 8\n",
    "    0x60,0x81,0x4f,0xdc,0x22,0x2a,0x90,0x88,0x46,0xee,0xb8,0x14,0xde,0x5e,0x0b,0xdb, # 9\n",
    "    0xe0,0x32,0x3a,0x0a,0x49,0x06,0x24,0x5c,0xc2,0xd3,0xac,0x62,0x91,0x95,0xe4,0x79, # a\n",
    "    0xe7,0xc8,0x37,0x6d,0x8d,0xd5,0x4e,0xa9,0x6c,0x56,0xf4,0xea,0x65,0x7a,0xae,0x08, # b\n",
    "    0xba,0x78,0x25,0x2e,0x1c,0xa6,0xb4,0xc6,0xe8,0xdd,0x74,0x1f,0x4b,0xbd,0x8b,0x8a, # c\n",
    "    0x70,0x3e,0xb5,0x66,0x48,0x03,0xf6,0x0e,0x61,0x35,0x57,0xb9,0x86,0xc1,0x1d,0x9e, # d\n",
    "    0xe1,0xf8,0x98,0x11,0x69,0xd9,0x8e,0x94,0x9b,0x1e,0x87,0xe9,0xce,0x55,0x28,0xdf, # e\n",
    "    0x8c,0xa1,0x89,0x0d,0xbf,0xe6,0x42,0x68,0x41,0x99,0x2d,0x0f,0xb0,0x54,0xbb,0x16  # f\n",
    "]"
   ]
  },
  {
   "cell_type": "markdown",
   "metadata": {},
   "source": [
    "Alright - that should be enough for you to build a simple function that XORs a secret key value with the input data, and then performs a lookup in the above table. Before you continue, modify the following code block to implement the correct function:\n",
    "\n",
    "### 1.1 `aes_internal()`"
   ]
  },
  {
   "cell_type": "code",
   "execution_count": 2,
   "metadata": {},
   "outputs": [],
   "source": [
    "def aes_internal(inputdata, key):\n",
    "     return sbox[inputdata ^ key]"
   ]
  },
  {
   "cell_type": "markdown",
   "metadata": {},
   "source": [
    "With that working - go ahead and run the following test vectors. If the values are not as expected, check your implementation. If the following executes without error, then go onto the next part."
   ]
  },
  {
   "cell_type": "code",
   "execution_count": 3,
   "metadata": {},
   "outputs": [
    {
     "name": "stdout",
     "output_type": "stream",
     "text": [
      "✔️ OK to continue!\n"
     ]
    }
   ],
   "source": [
    "#Simple test vectors - if you get the check-mark printed all OK.\n",
    "assert(aes_internal(0xAB, 0xEF) == 0x1B)\n",
    "assert(aes_internal(0x22, 0x01) == 0x26)\n",
    "print(\"✔️ OK to continue!\")"
   ]
  },
  {
   "cell_type": "markdown",
   "metadata": {},
   "source": [
    "Finally - we'll make a new function which doesn't expose the key. The following function has some hard-coded key. You can change this key byte if you'd like, and see it recovered at a later step!\n",
    "\n",
    "## 1.2 `aes_secret()`"
   ]
  },
  {
   "cell_type": "code",
   "execution_count": 4,
   "metadata": {},
   "outputs": [],
   "source": [
    "def aes_secret(inputdata):\n",
    "    secret_key = 0xEF\n",
    "    return aes_internal(secret_key, inputdata)"
   ]
  },
  {
   "cell_type": "markdown",
   "metadata": {},
   "source": [
    "At this point, we can get the value of some internal part of the AES algorithm. For our first attack, we're going to assume that we can't observe this entire value. Let's just observe a single bit of the value - imagine that someone put a probe down inside the chip to get this. We can do this by simply throwing away all the other data besides a single bit, and only expose that single bit to the observer.\n",
    "\n",
    "Let's build the watcher now."
   ]
  },
  {
   "cell_type": "markdown",
   "metadata": {},
   "source": [
    "## 2. AES Watcher"
   ]
  },
  {
   "cell_type": "markdown",
   "metadata": {},
   "source": [
    "The watcher is going to observe a single bit of data. We'll need to build lists of input we feed to the algorithm (we're just going to send in 1000 random bytes that get 'encrypted'), as well as lists to hold our observation. In case you're still picking up Python, here are a few handy little things you might need in this section:"
   ]
  },
  {
   "cell_type": "code",
   "execution_count": 5,
   "metadata": {},
   "outputs": [],
   "source": [
    "##Some Python hints/useful functions:\n",
    "\n",
    "# You can use this function to generate the random data\n",
    "import random\n",
    "random.randint(0, 255)\n",
    "\n",
    "# List comprehension can be used to shovel data through a function\n",
    "def somefunc(a):\n",
    "    return a + 4\n",
    "input_data = [1,2,5,6]\n",
    "output_data = [somefunc(a) for a in input_data]\n",
    "\n",
    "# You can use this while ignoring the index variable too\n",
    "output_data = [somefunc(random.randint(0,255)) for _ in range(0, 1000)]"
   ]
  },
  {
   "cell_type": "markdown",
   "metadata": {},
   "source": [
    "Your first objective is to build a list of data you are encrypted with aes_secret(). This should be a 1000-item random number which ranges from 0 to 255. Call it `input_data`. For example if you print the `input_data` list it could look like `[2, 49, 0, 212, 94, 255, ... , 7]`, where there are 1000 elements in total. Fill in the following code to make a list of the 1000 random values in the correct range (see hints above if you need some Python syntax). \n",
    "\n",
    "### 2.1 Generation of `input_data`"
   ]
  },
  {
   "cell_type": "code",
   "execution_count": 6,
   "metadata": {},
   "outputs": [
    {
     "name": "stdout",
     "output_type": "stream",
     "text": [
      "[155, 54, 119, 117, 50, 78, 147, 27, 7, 151, 192, 48, 114, 197, 109, 223, 18, 43, 17, 157, 118, 126, 74, 79, 198, 150, 52, 208, 168, 71, 41, 159, 214, 188, 55, 64, 186, 174, 69, 89, 15, 35, 85, 174, 141, 224, 61, 235, 159, 157, 224, 125, 101, 160, 96, 240, 94, 82, 197, 219, 37, 224, 70, 194, 35, 58, 210, 225, 251, 17, 48, 196, 219, 250, 239, 165, 148, 11, 163, 205, 96, 78, 147, 94, 32, 51, 200, 31, 201, 48, 77, 106, 213, 210, 233, 98, 107, 64, 228, 19, 88, 95, 16, 107, 137, 245, 120, 67, 131, 200, 46, 184, 74, 217, 127, 37, 72, 84, 118, 248, 125, 183, 222, 28, 94, 123, 254, 71, 116, 140, 195, 119, 210, 146, 150, 214, 182, 56, 255, 170, 2, 64, 159, 209, 128, 44, 150, 206, 227, 145, 182, 194, 88, 135, 228, 234, 104, 96, 243, 184, 204, 247, 115, 91, 11, 102, 174, 92, 174, 11, 52, 65, 157, 42, 215, 70, 151, 145, 164, 164, 105, 54, 237, 237, 220, 101, 75, 171, 76, 47, 62, 243, 47, 82, 179, 200, 233, 152, 28, 127, 189, 232, 27, 50, 7, 118, 11, 123, 211, 210, 136, 92, 132, 11, 7, 212, 144, 160, 21, 11, 6, 241, 22, 36, 213, 157, 14, 179, 201, 89, 147, 169, 40, 36, 154, 32, 15, 91, 106, 181, 4, 199, 172, 144, 212, 48, 132, 21, 1, 209, 6, 81, 1, 31, 173, 177, 152, 93, 143, 197, 231, 20, 248, 10, 168, 8, 32, 32, 250, 70, 200, 56, 209, 209, 11, 231, 75, 118, 100, 171, 105, 85, 147, 116, 123, 191, 169, 237, 194, 114, 99, 130, 8, 206, 188, 118, 131, 89, 131, 232, 50, 144, 3, 76, 176, 224, 10, 26, 75, 169, 32, 169, 102, 163, 109, 62, 76, 144, 26, 183, 7, 190, 254, 243, 205, 222, 198, 148, 180, 57, 11, 116, 235, 75, 95, 36, 241, 132, 114, 184, 181, 93, 40, 57, 58, 246, 18, 11, 196, 84, 195, 29, 213, 6, 80, 230, 206, 75, 140, 33, 64, 166, 171, 9, 251, 226, 202, 216, 179, 202, 161, 56, 242, 86, 23, 123, 228, 80, 85, 67, 252, 208, 4, 109, 107, 121, 31, 115, 154, 34, 137, 223, 191, 235, 107, 74, 161, 75, 253, 93, 11, 187, 23, 90, 110, 255, 87, 81, 148, 62, 28, 188, 63, 135, 78, 206, 182, 119, 5, 33, 7, 213, 240, 199, 175, 55, 54, 21, 59, 65, 18, 104, 45, 47, 201, 159, 56, 233, 36, 56, 212, 10, 85, 171, 70, 142, 226, 167, 238, 122, 86, 220, 20, 43, 84, 7, 143, 44, 190, 236, 172, 43, 234, 127, 181, 217, 24, 93, 236, 176, 82, 63, 174, 188, 0, 102, 118, 30, 212, 5, 2, 13, 22, 211, 125, 134, 179, 73, 5, 75, 106, 240, 104, 87, 176, 144, 114, 21, 254, 104, 6, 108, 234, 125, 81, 248, 26, 26, 214, 183, 196, 168, 112, 88, 244, 26, 37, 217, 236, 185, 62, 48, 23, 30, 234, 237, 146, 203, 69, 125, 140, 130, 90, 42, 253, 223, 82, 178, 139, 127, 90, 249, 94, 100, 252, 73, 132, 65, 231, 52, 227, 104, 104, 240, 69, 85, 19, 155, 108, 43, 194, 14, 230, 195, 147, 250, 125, 228, 56, 135, 178, 62, 11, 195, 182, 132, 87, 203, 94, 129, 109, 226, 147, 63, 222, 166, 130, 255, 40, 144, 94, 12, 70, 67, 108, 50, 152, 111, 207, 63, 181, 221, 248, 160, 26, 72, 123, 42, 21, 165, 63, 117, 64, 176, 250, 163, 88, 254, 97, 254, 121, 145, 1, 126, 68, 1, 45, 153, 98, 21, 27, 73, 178, 109, 197, 255, 177, 245, 7, 208, 64, 194, 125, 252, 99, 54, 129, 141, 94, 0, 43, 44, 143, 40, 214, 179, 4, 116, 88, 142, 29, 11, 148, 2, 137, 160, 116, 194, 244, 154, 43, 171, 201, 54, 185, 205, 86, 90, 232, 135, 174, 159, 119, 31, 237, 159, 73, 94, 81, 22, 195, 60, 110, 25, 16, 140, 108, 114, 238, 92, 78, 200, 176, 78, 149, 215, 249, 14, 122, 67, 113, 112, 9, 249, 79, 128, 145, 149, 19, 174, 54, 236, 187, 76, 230, 246, 41, 115, 99, 119, 89, 116, 137, 159, 253, 171, 17, 142, 143, 85, 137, 107, 231, 101, 7, 35, 33, 229, 158, 22, 73, 7, 65, 154, 8, 240, 15, 170, 225, 166, 222, 125, 23, 28, 148, 163, 23, 118, 37, 96, 155, 2, 30, 198, 14, 43, 47, 237, 203, 126, 136, 171, 176, 163, 9, 134, 195, 203, 97, 147, 163, 207, 211, 194, 189, 83, 190, 173, 175, 212, 186, 102, 25, 188, 1, 122, 142, 145, 69, 211, 105, 85, 110, 117, 186, 170, 57, 109, 43, 96, 171, 20, 171, 218, 138, 66, 68, 205, 127, 89, 249, 204, 159, 218, 121, 191, 153, 215, 15, 181, 176, 165, 132, 108, 23, 213, 204, 156, 224, 35, 129, 24, 181, 215, 162, 229, 65, 171, 251, 116, 140, 11, 110, 75, 49, 103, 2, 209, 94, 255, 9, 199, 13, 218, 28, 77, 227, 229, 226, 148, 232, 134, 247, 105, 250, 170, 66, 209, 85, 52, 201, 40, 198, 7, 225, 166, 12, 51, 149, 232, 34, 108, 97, 169, 145, 13, 183, 85, 91, 4, 23, 227, 175, 75, 184, 220, 139, 118, 47, 210, 178, 168, 111, 103, 195, 213, 173, 49, 110, 112, 11, 95, 201, 183, 0, 201, 226, 84, 197, 139, 24, 238, 161, 216, 223, 191, 75, 118, 251, 249, 152, 146, 4, 225, 87, 126, 188, 182, 2, 232, 214, 198, 111, 31, 191, 191, 131, 70, 140, 194, 143, 22, 170, 170, 76, 127, 211, 225, 130, 247, 63, 153, 137, 38, 207, 88, 90, 156, 156, 178, 208, 47, 43, 23, 10, 190, 55, 222, 241, 254]\n"
     ]
    }
   ],
   "source": [
    "input_data = [random.randint(0,255) for x in range(0, 1000)]\n",
    "print(input_data)"
   ]
  },
  {
   "cell_type": "code",
   "execution_count": 7,
   "metadata": {},
   "outputs": [
    {
     "name": "stdout",
     "output_type": "stream",
     "text": [
      "✔️ OK to continue!\n"
     ]
    }
   ],
   "source": [
    "#Simple test vectors - if you get the check-mark printed all OK.\n",
    "assert(len(input_data) == 1000)\n",
    "assert(max(input_data) == 0xFF) #Possibly not true for random variables (re-run if you get an error)\n",
    "assert(min(input_data) == 0x00) #Possibly not true for random variables (re-run if you get an error)\n",
    "print(\"✔️ OK to continue!\")"
   ]
  },
  {
   "cell_type": "markdown",
   "metadata": {},
   "source": [
    "Now, feed all those inputs through the `aes_secret` function. Because this is a secret function we are only going to observe a single bit of output (the 'leakage'). The following will perform the encryptions and mask off all but the lowest bit for you, and build a new array called `leaked_data` which contains just the 1 or 0 status of the lowest bit.\n",
    "\n",
    "### 2.2 Definition of `leaked_data`"
   ]
  },
  {
   "cell_type": "code",
   "execution_count": 8,
   "metadata": {},
   "outputs": [],
   "source": [
    "leaked_data = [aes_secret(x) & 0x01 for x in input_data]"
   ]
  },
  {
   "cell_type": "markdown",
   "metadata": {},
   "source": [
    "If you run the following too cells, it will then print some of the data so you can see the sequence of 1 and 0."
   ]
  },
  {
   "cell_type": "code",
   "execution_count": 9,
   "metadata": {},
   "outputs": [
    {
     "name": "stdout",
     "output_type": "stream",
     "text": [
      "[0, 1, 0, 0, 1, 0, 0, 1, 1, 0, 1, 0, 0, 1, 1, 0, 0, 0, 1, 0, 0, 1, 0, 0, 1, 0, 1, 1, 0, 0, 0, 1, 0, 1, 1, 1, 0, 1, 0, 0, 1, 1, 0, 1, 0, 0, 1, 0, 1, 0, 0, 1, 0, 0, 1, 0, 0, 0, 1, 0, 0, 0, 1, 0, 1, 1, 1, 1, 0, 1, 0, 1, 0, 1, 1, 0, 1, 1, 1, 1, 1, 0, 0, 0, 0, 0, 0, 0, 1, 0, 0, 1, 0, 1, 1, 1, 1, 1, 1, 0, 1, 1, 0, 1, 1, 0, 0, 1, 0, 0, 0, 1, 0, 1, 0, 0, 0, 0, 0, 0, 1, 0, 1, 1, 0, 0, 0, 0, 0, 1, 1, 0, 1, 1, 0, 0, 1, 0, 0, 0, 1, 1, 1, 0, 0, 0, 0, 1, 0, 1, 1, 0, 1, 1, 1, 1, 1, 1, 0, 1, 0, 1, 0, 1, 1, 1, 1, 1, 1, 1, 1, 0, 0, 0, 1, 1, 0, 1, 1, 1, 0, 1, 1, 1, 1, 0, 1, 1, 0, 0, 0, 0, 0, 0, 0, 0, 1, 1, 1, 0, 0, 1, 1, 1, 1, 0, 1, 0, 1, 1, 1, 1, 1, 1, 1, 0, 0, 0, 1, 1, 0, 0, 1, 1, 0, 0, 0, 0, 1, 0, 0, 0, 0, 1, 1, 0, 1, 1, 1, 0, 1, 0, 0, 0, 0, 0, 1, 1, 0, 0, 0, 0, 0, 0, 0, 0, 1, 1, 0, 1, 0, 1, 0, 1, 0, 0, 0, 0, 1, 1, 0, 0, 0, 0, 1, 0, 1, 0, 1, 1, 0, 0, 0, 0, 0, 1, 0, 1, 0, 0, 0, 0, 0, 1, 1, 0, 0, 0, 0, 1, 1, 0, 0, 0, 1, 0, 1, 0, 1, 0, 0, 0, 1, 1, 1, 0, 0, 0, 0, 0, 1, 1, 0, 0, 1, 1, 1, 1, 1, 0, 1, 0, 0, 1, 1, 1, 0, 1, 0, 1, 0, 1, 0, 0, 1, 0, 0, 1, 1, 0, 1, 1, 0, 0, 0, 1, 1, 1, 1, 1, 1, 1, 1, 0, 0, 1, 1, 0, 0, 1, 1, 0, 0, 0, 1, 0, 1, 0, 0, 1, 1, 1, 1, 1, 1, 0, 0, 0, 1, 1, 1, 0, 1, 0, 1, 0, 1, 1, 1, 1, 1, 0, 1, 1, 0, 0, 0, 0, 1, 0, 1, 1, 0, 1, 0, 1, 1, 0, 1, 1, 1, 0, 0, 0, 1, 1, 1, 1, 0, 0, 0, 1, 1, 0, 1, 1, 0, 1, 1, 0, 0, 1, 0, 1, 1, 1, 1, 0, 0, 0, 0, 1, 1, 0, 0, 1, 0, 0, 1, 1, 0, 0, 1, 0, 0, 1, 0, 1, 1, 1, 0, 0, 1, 1, 1, 1, 0, 1, 0, 1, 1, 0, 1, 1, 1, 1, 0, 0, 1, 1, 1, 0, 1, 0, 1, 0, 0, 1, 0, 1, 0, 0, 1, 1, 0, 0, 0, 0, 0, 0, 1, 0, 1, 1, 1, 0, 0, 1, 1, 1, 0, 0, 1, 1, 1, 1, 1, 0, 0, 1, 1, 0, 1, 0, 1, 0, 0, 0, 1, 0, 1, 1, 0, 1, 1, 0, 1, 0, 0, 1, 0, 1, 1, 0, 0, 0, 0, 0, 0, 0, 0, 0, 1, 1, 0, 1, 1, 1, 0, 1, 0, 0, 1, 1, 1, 1, 0, 0, 0, 1, 1, 1, 0, 0, 1, 1, 0, 0, 0, 0, 0, 1, 1, 1, 0, 1, 1, 1, 1, 0, 0, 1, 0, 0, 0, 0, 0, 0, 1, 0, 0, 0, 1, 1, 1, 1, 1, 0, 1, 0, 0, 1, 0, 1, 0, 0, 1, 0, 1, 1, 1, 0, 0, 1, 1, 0, 0, 0, 1, 1, 1, 0, 1, 1, 0, 1, 1, 0, 0, 1, 0, 0, 0, 0, 0, 0, 1, 0, 1, 1, 1, 1, 1, 1, 1, 0, 0, 0, 1, 1, 0, 1, 1, 1, 1, 1, 0, 1, 1, 1, 1, 1, 0, 0, 1, 1, 0, 0, 0, 1, 1, 0, 0, 0, 0, 1, 0, 0, 0, 1, 0, 0, 1, 0, 0, 1, 1, 0, 0, 1, 1, 1, 0, 1, 0, 0, 1, 0, 0, 1, 1, 1, 0, 0, 1, 0, 0, 0, 0, 0, 0, 0, 1, 1, 1, 1, 1, 1, 0, 0, 1, 1, 0, 0, 1, 1, 1, 1, 1, 1, 0, 1, 0, 1, 0, 0, 1, 0, 1, 1, 1, 1, 1, 1, 1, 1, 1, 0, 0, 1, 0, 1, 1, 1, 0, 0, 0, 1, 0, 1, 1, 1, 1, 1, 0, 1, 1, 0, 1, 0, 1, 1, 1, 0, 0, 1, 1, 0, 1, 0, 0, 1, 0, 1, 0, 0, 1, 1, 0, 1, 0, 0, 0, 0, 0, 0, 0, 1, 0, 1, 1, 1, 1, 0, 1, 1, 0, 1, 0, 0, 1, 0, 1, 0, 0, 1, 0, 1, 1, 0, 1, 0, 1, 0, 1, 0, 0, 1, 0, 1, 1, 0, 0, 1, 1, 1, 0, 1, 0, 0, 1, 1, 0, 1, 1, 0, 1, 0, 0, 0, 0, 0, 0, 0, 1, 0, 0, 1, 1, 1, 1, 1, 1, 0, 1, 0, 1, 0, 0, 1, 1, 0, 1, 1, 1, 1, 1, 0, 0, 1, 1, 0, 1, 0, 1, 0, 0, 0, 1, 1, 1, 0, 1, 1, 1, 1, 1, 0, 0, 1, 0, 0, 1, 0, 1, 0, 0, 1, 0, 1, 1, 1, 1, 0, 1, 1, 1, 0, 1, 1, 0, 0, 1, 0, 0, 1, 1, 0, 0, 1, 1, 1, 1, 1, 0, 1, 1, 1, 1, 1, 0, 1, 1, 0, 1, 1, 0, 1, 1, 0, 0, 1, 0, 0, 0, 0, 1, 1, 0, 1, 0, 0, 1, 1, 1, 1, 1, 1, 1, 0, 1, 0, 0, 1, 1, 1, 1, 1, 0, 0]\n"
     ]
    }
   ],
   "source": [
    "print(leaked_data)"
   ]
  },
  {
   "cell_type": "markdown",
   "metadata": {},
   "source": [
    "You can also plot for example the patterns of 1's and 0's - this gets pretty squashed, so let's just look at a few hundred transitions:"
   ]
  },
  {
   "cell_type": "code",
   "execution_count": 10,
   "metadata": {},
   "outputs": [
    {
     "data": {
      "image/png": "[encoded data removed]",
      "text/plain": [
       "<Figure size 432x288 with 1 Axes>"
      ]
     },
     "metadata": {
      "needs_background": "light"
     },
     "output_type": "display_data"
    }
   ],
   "source": [
    "import matplotlib.pylab as plt\n",
    "plt.plot(leaked_data[0:200])\n",
    "plt.show()"
   ]
  },
  {
   "cell_type": "markdown",
   "metadata": {},
   "source": [
    "Do you think we'll be able to get something useful out of this? Let's attack it to find out."
   ]
  },
  {
   "cell_type": "markdown",
   "metadata": {},
   "source": [
    "## 3. AES Guesser"
   ]
  },
  {
   "cell_type": "markdown",
   "metadata": {},
   "source": [
    "The attack is pretty simple. Let's just use our model of the device (we know what the encryption does after all, just not the secret key). And we'll feed in the observed data for each possible value of the key. And then we can observe how many (if any) of the keys result in the observation and simulation matching each other. If the observation and simulation match, this suggets our simulation is running in the same \"setup\" as the implementation we are attacking!\n",
    "\n",
    "First, build a function to count the number of elements in a list that match between two lists (that is - same value of the element at the same list index). An easy way is to just iterate through the number of elements in the list and count the number that are the same. Fill in the following - there is already some bounds checking code to get you started.\n",
    "\n",
    "### 3.1 `num_same()`"
   ]
  },
  {
   "cell_type": "code",
   "execution_count": 11,
   "metadata": {},
   "outputs": [],
   "source": [
    "def num_same(a, b):\n",
    "    \n",
    "    if len(a) != len(b):\n",
    "        raise ValueError(\"Arrays must be same length!\")\n",
    "\n",
    "    if max(a) != max(b):\n",
    "        raise ValueError(\"Arrays max() should be the same!\")\n",
    "    \n",
    "    #Count how many list items match up\n",
    "    same = 0\n",
    "    for i in range(len(a)):\n",
    "        if a[i] == b[i]:\n",
    "            same += 1\n",
    "    return same"
   ]
  },
  {
   "cell_type": "code",
   "execution_count": 12,
   "metadata": {},
   "outputs": [
    {
     "name": "stdout",
     "output_type": "stream",
     "text": [
      "✔️ OK to continue!\n"
     ]
    }
   ],
   "source": [
    "#Simple test vectors - if you get the check-mark printed all OK.\n",
    "assert(num_same([0,1,0,1,1,1,1,0], [0,1,0,1,1,1,1,0]) == 8)\n",
    "assert(num_same([1,1,1,0,0,0,0,0], [0,1,0,1,1,1,1,0]) == 2)\n",
    "assert(num_same([1, 0], [0, 1]) == 0)\n",
    "print(\"✔️ OK to continue!\")"
   ]
  },
  {
   "cell_type": "markdown",
   "metadata": {},
   "source": [
    "The next block is the most important. You'll need to \"apply\" the leakage function - that is for each known input byte, pass it through the `aes_internal(input_data, key_guess)` function. The value of `key_guess` is just integers in `[0x00, 0x01,...,0xFF]` - aka every possible value of the key byte. We'll compare the number of matching bits between our observed (leaked) data bit and the hypothetical data bit.\n",
    "\n",
    "### 3.2 Guessing Loop"
   ]
  },
  {
   "cell_type": "code",
   "execution_count": 13,
   "metadata": {},
   "outputs": [
    {
     "name": "stdout",
     "output_type": "stream",
     "text": [
      "Guess 00:  489 bits same\n",
      "Guess 01:  452 bits same\n",
      "Guess 02:  510 bits same\n",
      "Guess 03:  503 bits same\n",
      "Guess 04:  456 bits same\n",
      "Guess 05:  480 bits same\n",
      "Guess 06:  485 bits same\n",
      "Guess 07:  489 bits same\n",
      "Guess 08:  490 bits same\n",
      "Guess 09:  510 bits same\n",
      "Guess 0A:  495 bits same\n",
      "Guess 0B:  543 bits same\n",
      "Guess 0C:  529 bits same\n",
      "Guess 0D:  523 bits same\n",
      "Guess 0E:  544 bits same\n",
      "Guess 0F:  493 bits same\n",
      "Guess 10:  506 bits same\n",
      "Guess 11:  523 bits same\n",
      "Guess 12:  465 bits same\n",
      "Guess 13:  501 bits same\n",
      "Guess 14:  503 bits same\n",
      "Guess 15:  489 bits same\n",
      "Guess 16:  525 bits same\n",
      "Guess 17:  507 bits same\n",
      "Guess 18:  480 bits same\n",
      "Guess 19:  471 bits same\n",
      "Guess 1A:  434 bits same\n",
      "Guess 1B:  529 bits same\n",
      "Guess 1C:  510 bits same\n",
      "Guess 1D:  448 bits same\n",
      "Guess 1E:  441 bits same\n",
      "Guess 1F:  485 bits same\n",
      "Guess 20:  484 bits same\n",
      "Guess 21:  555 bits same\n",
      "Guess 22:  439 bits same\n",
      "Guess 23:  514 bits same\n",
      "Guess 24:  536 bits same\n",
      "Guess 25:  456 bits same\n",
      "Guess 26:  531 bits same\n",
      "Guess 27:  452 bits same\n",
      "Guess 28:  494 bits same\n",
      "Guess 29:  490 bits same\n",
      "Guess 2A:  519 bits same\n",
      "Guess 2B:  484 bits same\n",
      "Guess 2C:  456 bits same\n",
      "Guess 2D:  498 bits same\n",
      "Guess 2E:  513 bits same\n",
      "Guess 2F:  484 bits same\n",
      "Guess 30:  508 bits same\n",
      "Guess 31:  543 bits same\n",
      "Guess 32:  441 bits same\n",
      "Guess 33:  517 bits same\n",
      "Guess 34:  549 bits same\n",
      "Guess 35:  482 bits same\n",
      "Guess 36:  508 bits same\n",
      "Guess 37:  540 bits same\n",
      "Guess 38:  524 bits same\n",
      "Guess 39:  478 bits same\n",
      "Guess 3A:  444 bits same\n",
      "Guess 3B:  525 bits same\n",
      "Guess 3C:  494 bits same\n",
      "Guess 3D:  536 bits same\n",
      "Guess 3E:  460 bits same\n",
      "Guess 3F:  466 bits same\n",
      "Guess 40:  511 bits same\n",
      "Guess 41:  551 bits same\n",
      "Guess 42:  504 bits same\n",
      "Guess 43:  470 bits same\n",
      "Guess 44:  516 bits same\n",
      "Guess 45:  499 bits same\n",
      "Guess 46:  550 bits same\n",
      "Guess 47:  487 bits same\n",
      "Guess 48:  477 bits same\n",
      "Guess 49:  459 bits same\n",
      "Guess 4A:  498 bits same\n",
      "Guess 4B:  498 bits same\n",
      "Guess 4C:  476 bits same\n",
      "Guess 4D:  503 bits same\n",
      "Guess 4E:  500 bits same\n",
      "Guess 4F:  474 bits same\n",
      "Guess 50:  523 bits same\n",
      "Guess 51:  488 bits same\n",
      "Guess 52:  498 bits same\n",
      "Guess 53:  514 bits same\n",
      "Guess 54:  490 bits same\n",
      "Guess 55:  538 bits same\n",
      "Guess 56:  472 bits same\n",
      "Guess 57:  475 bits same\n",
      "Guess 58:  478 bits same\n",
      "Guess 59:  469 bits same\n",
      "Guess 5A:  464 bits same\n",
      "Guess 5B:  462 bits same\n",
      "Guess 5C:  515 bits same\n",
      "Guess 5D:  516 bits same\n",
      "Guess 5E:  438 bits same\n",
      "Guess 5F:  449 bits same\n",
      "Guess 60:  508 bits same\n",
      "Guess 61:  484 bits same\n",
      "Guess 62:  550 bits same\n",
      "Guess 63:  522 bits same\n",
      "Guess 64:  498 bits same\n",
      "Guess 65:  554 bits same\n",
      "Guess 66:  547 bits same\n",
      "Guess 67:  466 bits same\n",
      "Guess 68:  473 bits same\n",
      "Guess 69:  502 bits same\n",
      "Guess 6A:  533 bits same\n",
      "Guess 6B:  529 bits same\n",
      "Guess 6C:  532 bits same\n",
      "Guess 6D:  545 bits same\n",
      "Guess 6E:  487 bits same\n",
      "Guess 6F:  477 bits same\n",
      "Guess 70:  481 bits same\n",
      "Guess 71:  439 bits same\n",
      "Guess 72:  510 bits same\n",
      "Guess 73:  526 bits same\n",
      "Guess 74:  494 bits same\n",
      "Guess 75:  495 bits same\n",
      "Guess 76:  501 bits same\n",
      "Guess 77:  507 bits same\n",
      "Guess 78:  427 bits same\n",
      "Guess 79:  464 bits same\n",
      "Guess 7A:  549 bits same\n",
      "Guess 7B:  443 bits same\n",
      "Guess 7C:  433 bits same\n",
      "Guess 7D:  508 bits same\n",
      "Guess 7E:  473 bits same\n",
      "Guess 7F:  465 bits same\n",
      "Guess 80:  522 bits same\n",
      "Guess 81:  510 bits same\n",
      "Guess 82:  574 bits same\n",
      "Guess 83:  472 bits same\n",
      "Guess 84:  540 bits same\n",
      "Guess 85:  504 bits same\n",
      "Guess 86:  453 bits same\n",
      "Guess 87:  555 bits same\n",
      "Guess 88:  465 bits same\n",
      "Guess 89:  587 bits same\n",
      "Guess 8A:  547 bits same\n",
      "Guess 8B:  467 bits same\n",
      "Guess 8C:  447 bits same\n",
      "Guess 8D:  517 bits same\n",
      "Guess 8E:  526 bits same\n",
      "Guess 8F:  514 bits same\n",
      "Guess 90:  464 bits same\n",
      "Guess 91:  536 bits same\n",
      "Guess 92:  559 bits same\n",
      "Guess 93:  539 bits same\n",
      "Guess 94:  482 bits same\n",
      "Guess 95:  512 bits same\n",
      "Guess 96:  520 bits same\n",
      "Guess 97:  426 bits same\n",
      "Guess 98:  473 bits same\n",
      "Guess 99:  548 bits same\n",
      "Guess 9A:  531 bits same\n",
      "Guess 9B:  410 bits same\n",
      "Guess 9C:  457 bits same\n",
      "Guess 9D:  471 bits same\n",
      "Guess 9E:  523 bits same\n",
      "Guess 9F:  489 bits same\n",
      "Guess A0:  506 bits same\n",
      "Guess A1:  433 bits same\n",
      "Guess A2:  503 bits same\n",
      "Guess A3:  564 bits same\n",
      "Guess A4:  521 bits same\n",
      "Guess A5:  500 bits same\n",
      "Guess A6:  537 bits same\n",
      "Guess A7:  484 bits same\n",
      "Guess A8:  543 bits same\n",
      "Guess A9:  523 bits same\n",
      "Guess AA:  441 bits same\n",
      "Guess AB:  518 bits same\n",
      "Guess AC:  468 bits same\n",
      "Guess AD:  510 bits same\n",
      "Guess AE:  471 bits same\n",
      "Guess AF:  420 bits same\n",
      "Guess B0:  522 bits same\n",
      "Guess B1:  477 bits same\n",
      "Guess B2:  495 bits same\n",
      "Guess B3:  555 bits same\n",
      "Guess B4:  508 bits same\n",
      "Guess B5:  507 bits same\n",
      "Guess B6:  490 bits same\n",
      "Guess B7:  510 bits same\n",
      "Guess B8:  583 bits same\n",
      "Guess B9:  524 bits same\n",
      "Guess BA:  500 bits same\n",
      "Guess BB:  505 bits same\n",
      "Guess BC:  442 bits same\n",
      "Guess BD:  486 bits same\n",
      "Guess BE:  485 bits same\n",
      "Guess BF:  461 bits same\n",
      "Guess C0:  474 bits same\n",
      "Guess C1:  429 bits same\n",
      "Guess C2:  484 bits same\n",
      "Guess C3:  444 bits same\n",
      "Guess C4:  496 bits same\n",
      "Guess C5:  560 bits same\n",
      "Guess C6:  495 bits same\n",
      "Guess C7:  511 bits same\n",
      "Guess C8:  524 bits same\n",
      "Guess C9:  577 bits same\n",
      "Guess CA:  472 bits same\n",
      "Guess CB:  522 bits same\n",
      "Guess CC:  501 bits same\n",
      "Guess CD:  544 bits same\n",
      "Guess CE:  526 bits same\n",
      "Guess CF:  553 bits same\n",
      "Guess D0:  477 bits same\n",
      "Guess D1:  494 bits same\n",
      "Guess D2:  491 bits same\n",
      "Guess D3:  441 bits same\n",
      "Guess D4:  447 bits same\n",
      "Guess D5:  568 bits same\n",
      "Guess D6:  483 bits same\n",
      "Guess D7:  515 bits same\n",
      "Guess D8:  523 bits same\n",
      "Guess D9:  530 bits same\n",
      "Guess DA:  502 bits same\n",
      "Guess DB:  435 bits same\n",
      "Guess DC:  493 bits same\n",
      "Guess DD:  507 bits same\n",
      "Guess DE:  523 bits same\n",
      "Guess DF:  521 bits same\n",
      "Guess E0:  476 bits same\n",
      "Guess E1:  527 bits same\n",
      "Guess E2:  501 bits same\n",
      "Guess E3:  491 bits same\n",
      "Guess E4:  502 bits same\n",
      "Guess E5:  434 bits same\n",
      "Guess E6:  492 bits same\n",
      "Guess E7:  488 bits same\n",
      "Guess E8:  555 bits same\n",
      "Guess E9:  454 bits same\n",
      "Guess EA:  563 bits same\n",
      "Guess EB:  480 bits same\n",
      "Guess EC:  541 bits same\n",
      "Guess ED:  514 bits same\n",
      "Guess EE:  480 bits same\n",
      "Guess EF: 1000 bits same\n",
      "Guess F0:  483 bits same\n",
      "Guess F1:  489 bits same\n",
      "Guess F2:  476 bits same\n",
      "Guess F3:  459 bits same\n",
      "Guess F4:  518 bits same\n",
      "Guess F5:  479 bits same\n",
      "Guess F6:  471 bits same\n",
      "Guess F7:  535 bits same\n",
      "Guess F8:  490 bits same\n",
      "Guess F9:  539 bits same\n",
      "Guess FA:  477 bits same\n",
      "Guess FB:  461 bits same\n",
      "Guess FC:  541 bits same\n",
      "Guess FD:  440 bits same\n",
      "Guess FE:  481 bits same\n",
      "Guess FF:  557 bits same\n"
     ]
    }
   ],
   "source": [
    "for guess in range(0, 256):   \n",
    "    \n",
    "    #Get a hypothetical leakage list - use aes_internal(guess, input_byte) and mask off to only get value of lowest bit\n",
    "    hypothetical_leakage = [aes_internal(input_data[i], guess) & 0x01 for i in range(1000)]\n",
    "    \n",
    "    #Use our function\n",
    "    same_count = num_same(hypothetical_leakage, leaked_data)   \n",
    "    \n",
    "    #Print for debug\n",
    "    print(\"Guess {:02X}: {:4d} bits same\".format(guess, same_count))"
   ]
  },
  {
   "cell_type": "markdown",
   "metadata": {},
   "source": [
    "If your key guess is wrong, about half of the guesses should be wrong. Looking through the list, you'll see that most of the \"bits same\" numbers will be around 500. But scroll down to the correct key value (should be `0xEF` if you haven't changed it earlier). With any luck, that number should be fully correct - 1000 matching bits. This is only possible if the internal \"secret key\" byte matches the observed key."
   ]
  },
  {
   "cell_type": "markdown",
   "metadata": {},
   "source": [
    "### 3.3 `argsort` background\n",
    "\n",
    "Now a handy thing to do will be to sort based on the values by number of correct bits so we don't have to look through that list. An easy way to do this is with `numpy.argsort` - this returns the indicies that would sort the list. To start small, take the following for example:"
   ]
  },
  {
   "cell_type": "code",
   "execution_count": 14,
   "metadata": {},
   "outputs": [
    {
     "data": {
      "text/plain": [
       "array([0, 3, 4, 1, 2])"
      ]
     },
     "execution_count": 14,
     "metadata": {},
     "output_type": "execute_result"
    }
   ],
   "source": [
    "import numpy as np\n",
    "\n",
    "count_list = [2, 7, 24, 4, 5]\n",
    "\n",
    "np.argsort(count_list)"
   ]
  },
  {
   "cell_type": "markdown",
   "metadata": {},
   "source": [
    "This should return `[0, 3, 4, 1, 2]` - you can cast the above to `list()` type if you want to get rid of the `array()` type around it.\n",
    "\n",
    "Inspecting the above, notice that this is the position of each from lowest to highest. We can reverse this to give us a highest to lowest sort instead:"
   ]
  },
  {
   "cell_type": "code",
   "execution_count": 15,
   "metadata": {},
   "outputs": [
    {
     "data": {
      "text/plain": [
       "array([2, 1, 4, 3, 0])"
      ]
     },
     "execution_count": 15,
     "metadata": {},
     "output_type": "execute_result"
    }
   ],
   "source": [
    "import numpy as np\n",
    "\n",
    "count_list = [2, 7, 24, 4, 5]\n",
    "\n",
    "np.argsort(count_list)[::-1]"
   ]
  },
  {
   "cell_type": "markdown",
   "metadata": {},
   "source": [
    "Taking your previous code, simply make a new list which contains the number of elements which are the same, where the list index is the *key guess*. As a rough outline, see the following (you'll need to add back in your hypothetical code):\n",
    "\n",
    "### 3.4 Guessing loop with sort"
   ]
  },
  {
   "cell_type": "code",
   "execution_count": 16,
   "metadata": {},
   "outputs": [
    {
     "name": "stdout",
     "output_type": "stream",
     "text": [
      "Key Guess EF = 1000 matches\n",
      "Key Guess 89 = 0587 matches\n",
      "Key Guess B8 = 0583 matches\n",
      "Key Guess C9 = 0577 matches\n",
      "Key Guess 82 = 0574 matches\n"
     ]
    }
   ],
   "source": [
    "import numpy as np\n",
    "\n",
    "guess_list = [0] * 256\n",
    "\n",
    "for guess in range(0, 256):   \n",
    "    \n",
    "    #Get a hypothetical leakage list - use aes_internal(guess, input_byte) and mask off to only get value of lowest bit\n",
    "    hypothetical_leakage = [aes_internal(input_data[i], guess) & 0x01 for i in range(1000)]\n",
    "    \n",
    "    #Use our function\n",
    "    same_count = num_same(hypothetical_leakage, leaked_data)   \n",
    "    \n",
    "    #Track the number of correct bits\n",
    "    guess_list[guess] = same_count\n",
    "\n",
    "#Use np.argsort to generate a list of indicies from low to high, then [::-1] to reverse the list to get high to low.\n",
    "sorted_list = list(np.argsort(guess_list)[::-1])\n",
    "\n",
    "#Print top 5 only\n",
    "for guess in sorted_list[0:5]:\n",
    "    print(\"Key Guess {:02X} = {:04d} matches\".format(guess, guess_list[guess]))"
   ]
  },
  {
   "cell_type": "markdown",
   "metadata": {},
   "source": [
    "In this case we know that bit '0' was the leakage. What if we didn't know that? Imagine putting our needle down onto the internal bus, but we aren't sure what bit we touched.\n",
    "\n",
    "Luckily we can easily test that. To do so, we'll need to adjust our leakage function to take in a bit number that is leaking. First, define a function which returns the value of a bit being 1 or 0:\n",
    "\n",
    "### 3.5 `get_bit()`"
   ]
  },
  {
   "cell_type": "code",
   "execution_count": 17,
   "metadata": {},
   "outputs": [],
   "source": [
    "def get_bit(data, bit):\n",
    "    if data & (1<<bit):\n",
    "        return 1\n",
    "    else:\n",
    "        return 0"
   ]
  },
  {
   "cell_type": "code",
   "execution_count": 18,
   "metadata": {},
   "outputs": [
    {
     "name": "stdout",
     "output_type": "stream",
     "text": [
      "✔️ OK to continue!\n"
     ]
    }
   ],
   "source": [
    "assert(get_bit(0xAA, 7) == 1)\n",
    "assert(get_bit(0xAA, 0) == 0)\n",
    "assert(get_bit(0x00, 7) == 0)\n",
    "print(\"✔️ OK to continue!\")"
   ]
  },
  {
   "cell_type": "markdown",
   "metadata": {},
   "source": [
    "Now let's make a slightly fancier leakage function with it:"
   ]
  },
  {
   "cell_type": "code",
   "execution_count": 19,
   "metadata": {},
   "outputs": [],
   "source": [
    "def aes_leakage_guess(keyguess, inputdata, bit):\n",
    "    return get_bit(aes_internal(keyguess, inputdata), bit)"
   ]
  },
  {
   "cell_type": "code",
   "execution_count": 20,
   "metadata": {},
   "outputs": [
    {
     "name": "stdout",
     "output_type": "stream",
     "text": [
      "✔️ OK to continue!\n"
     ]
    }
   ],
   "source": [
    "assert(aes_leakage_guess(0xAB, 0x22, 4) == 0)\n",
    "assert(aes_leakage_guess(0xAB, 0x22, 3) == 0)\n",
    "assert(aes_leakage_guess(0xAB, 0x22, 2) == 1)\n",
    "assert(aes_leakage_guess(0xAB, 0x22, 1) == 1)\n",
    "assert(aes_leakage_guess(0xAB, 0x22, 0) == 1)\n",
    "print(\"✔️ OK to continue!\")"
   ]
  },
  {
   "cell_type": "markdown",
   "metadata": {},
   "source": [
    "Finally, finish off this loop by adding your leakage function into it. Running the loop should print results for each bit option - hopefully you see that only the matching bit shows the full number of matches. If you want to try a different leaky bit, you'll then need to go back up to the actual secret observation to make the leak happen from a different bit. But you can see the following code makes no assumptions about 'bit 0' being the leaky one - it will work with any other bit leaking now.\n",
    "\n",
    "### 3.6 Bitwise Guessing Loop"
   ]
  },
  {
   "cell_type": "code",
   "execution_count": 21,
   "metadata": {},
   "outputs": [
    {
     "name": "stdout",
     "output_type": "stream",
     "text": [
      "Checking bit 0\n",
      "Key Guess EF = 1000 matches\n",
      "Key Guess 89 = 0587 matches\n",
      "Key Guess B8 = 0583 matches\n",
      "Key Guess C9 = 0577 matches\n",
      "Key Guess 82 = 0574 matches\n",
      "Checking bit 1\n",
      "Key Guess 29 = 0571 matches\n",
      "Key Guess E2 = 0570 matches\n",
      "Key Guess 22 = 0566 matches\n",
      "Key Guess 58 = 0566 matches\n",
      "Key Guess 8B = 0564 matches\n",
      "Checking bit 2\n",
      "Key Guess 23 = 0590 matches\n",
      "Key Guess E1 = 0571 matches\n",
      "Key Guess 05 = 0561 matches\n",
      "Key Guess 3A = 0560 matches\n",
      "Key Guess 3E = 0559 matches\n",
      "Checking bit 3\n",
      "Key Guess A8 = 0602 matches\n",
      "Key Guess 22 = 0589 matches\n",
      "Key Guess 8A = 0578 matches\n",
      "Key Guess E7 = 0576 matches\n",
      "Key Guess 4E = 0571 matches\n",
      "Checking bit 4\n",
      "Key Guess 44 = 0586 matches\n",
      "Key Guess 2B = 0577 matches\n",
      "Key Guess 33 = 0571 matches\n",
      "Key Guess DD = 0569 matches\n",
      "Key Guess E7 = 0569 matches\n",
      "Checking bit 5\n",
      "Key Guess D3 = 0602 matches\n",
      "Key Guess C7 = 0588 matches\n",
      "Key Guess B8 = 0579 matches\n",
      "Key Guess D6 = 0572 matches\n",
      "Key Guess AD = 0566 matches\n",
      "Checking bit 6\n",
      "Key Guess 6B = 0576 matches\n",
      "Key Guess 98 = 0573 matches\n",
      "Key Guess 67 = 0573 matches\n",
      "Key Guess 17 = 0568 matches\n",
      "Key Guess 53 = 0566 matches\n",
      "Checking bit 7\n",
      "Key Guess 5A = 0606 matches\n",
      "Key Guess F1 = 0590 matches\n",
      "Key Guess F5 = 0573 matches\n",
      "Key Guess D1 = 0572 matches\n",
      "Key Guess 70 = 0567 matches\n"
     ]
    }
   ],
   "source": [
    "for bit_guess in range(0, 8):\n",
    "    guess_list = [0] * 256\n",
    "    print(\"Checking bit {:d}\".format(bit_guess))\n",
    "    for guess in range(0, 256):\n",
    "\n",
    "        #Get a hypothetical leakage for guessed bit (ensure returns 1/0 only)\n",
    "        #Use bit_guess as the bit number, guess as the key guess, and data from input_data\n",
    "        hypothetical_leakage = [aes_leakage_guess(guess, input_byte, bit_guess) for input_byte in input_data]\n",
    "\n",
    "        #Use our function\n",
    "        same_count = num_same(hypothetical_leakage, leaked_data)   \n",
    "\n",
    "        #Track the number of correct bits\n",
    "        guess_list[guess] = same_count\n",
    "\n",
    "    sorted_list = np.argsort(guess_list)[::-1]\n",
    "\n",
    "    #Print top 5 only\n",
    "    for guess in sorted_list[0:5]:\n",
    "            print(\"Key Guess {:02X} = {:04d} matches\".format(guess, guess_list[guess]))"
   ]
  },
  {
   "cell_type": "markdown",
   "metadata": {},
   "source": [
    "🥳🥳🥳🥳🥳🥳🥳🥳🥳🥳🥳🥳🥳\n",
    "Congrats - you did it!!!!\n",
    "\n",
    "This all assumed you get some way to observe the value of the bit - in our next act, we'll see how power analysis gives us the ability to observe a given bit."
   ]
  },
  {
   "cell_type": "markdown",
   "metadata": {},
   "source": [
    "---\n",
    "<small>NO-FUN DISCLAIMER: This material is Copyright (C) NewAE Technology Inc., 2015-2020. ChipWhisperer is a trademark of NewAE Technology Inc., claimed in all jurisdictions, and registered in at least the United States of America, European Union, and Peoples Republic of China.\n",
    "\n",
    "Tutorials derived from our open-source work must be released under the associated open-source license, and notice of the source must be *clearly displayed*. Only original copyright holders may license or authorize other distribution - while NewAE Technology Inc. holds the copyright for many tutorials, the github repository includes community contributions which we cannot license under special terms and **must** be maintained as an open-source release. Please contact us for special permissions (where possible).\n",
    "\n",
    "THE SOFTWARE IS PROVIDED \"AS IS\", WITHOUT WARRANTY OF ANY KIND, EXPRESS OR IMPLIED, INCLUDING BUT NOT LIMITED TO THE WARRANTIES OF MERCHANTABILITY, FITNESS FOR A PARTICULAR PURPOSE AND NONINFRINGEMENT. IN NO EVENT SHALL THE AUTHORS OR COPYRIGHT HOLDERS BE LIABLE FOR ANY CLAIM, DAMAGES OR OTHER LIABILITY, WHETHER IN AN ACTION OF CONTRACT, TORT OR OTHERWISE, ARISING FROM, OUT OF OR IN CONNECTION WITH THE SOFTWARE OR THE USE OR OTHER DEALINGS IN THE SOFTWARE.</small>"
   ]
  }
 ],
 "metadata": {
  "kernelspec": {
   "display_name": "Python 3",
   "language": "python",
   "name": "python3"
  },
  "language_info": {
   "codemirror_mode": {
    "name": "ipython",
    "version": 3
   },
   "file_extension": ".py",
   "mimetype": "text/x-python",
   "name": "python",
   "nbconvert_exporter": "python",
   "pygments_lexer": "ipython3",
   "version": "3.7.7"
  },
  "toc": {
   "base_numbering": 1,
   "nav_menu": {},
   "number_sections": true,
   "sideBar": true,
   "skip_h1_title": false,
   "title_cell": "Table of Contents",
   "title_sidebar": "Contents",
   "toc_cell": false,
   "toc_position": {},
   "toc_section_display": true,
   "toc_window_display": false
  }
 },
 "nbformat": 4,
 "nbformat_minor": 2
}
